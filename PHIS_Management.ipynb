{
 "cells": [
  {
   "cell_type": "markdown",
   "id": "885b43cc-0083-4793-ade0-b6fecec6222c",
   "metadata": {},
   "source": [
    "# Import library and Connect to PHIS Database"
   ]
  },
  {
   "cell_type": "code",
   "execution_count": 2,
   "id": "6cf52527-d234-401e-86c5-ad5b617886d6",
   "metadata": {},
   "outputs": [
    {
     "name": "stdout",
     "output_type": "stream",
     "text": [
      "Library Imported\n"
     ]
    }
   ],
   "source": [
    "### Import library ##########################################################################################################\n",
    "import os\n",
    "import opensilexClientToolsPython as osC\n",
    "import pandas as pd\n",
    "import json\n",
    "import yaml\n",
    "from tqdm import tqdm\n",
    "print(\"Library Imported\")"
   ]
  },
  {
   "cell_type": "code",
   "execution_count": 3,
   "id": "9dec1dd2-1023-4bd4-9af5-339216070bd2",
   "metadata": {},
   "outputs": [
    {
     "data": {
      "text/plain": [
       "'P:\\\\h572\\\\nappi_hy_data\\\\GrpFd_Common\\\\PHIS_Database'"
      ]
     },
     "metadata": {},
     "output_type": "display_data"
    }
   ],
   "source": [
    "### Set database wd #########################################################################################################\n",
    "wd_DB = os.path.normpath(\"P:/h572/nappi_hy_data/GrpFd_Common/PHIS_Database\")\n",
    "os.chdir(wd_DB)\n",
    "display(wd_DB)"
   ]
  },
  {
   "cell_type": "code",
   "execution_count": 15,
   "id": "9689fa51-66ad-40fe-9764-c878abbddfef",
   "metadata": {},
   "outputs": [
    {
     "name": "stdout",
     "output_type": "stream",
     "text": [
      "Connected\n"
     ]
    }
   ],
   "source": [
    "## Get Login Info ###########################################################################################################\n",
    "wd_yaml=os.path.join(wd_DB, '.yaml')\n",
    "with open (os.path.join(wd_yaml, '00-login.yaml'), 'r') as stream:\n",
    "    login=yaml.safe_load(stream)\n",
    "del(wd_yaml)\n",
    "\n",
    "### Connect to PHIS Database ################################################################################################\n",
    "Py_Client = osC.ApiClient()\n",
    "Py_Client.connect_to_opensilex_ws(identifier=login[\"Identifier\"],\n",
    "                                  password=login[\"Password\"],\n",
    "                                  host=login[\"Host\"])\n",
    "#print(Py_Client.default_headers['Authorization'])\n",
    "if Py_Client.default_headers:\n",
    "    print(\"Connected\")\n",
    "\n",
    "# Instance alternative link (UH):\n",
    "    # \"https://phis.emphasis.fedcloud.eu/uh/rest\"\n",
    "    # \"http://78.128.251.31:8081/uh/rest\"\n",
    "    # 'https://phis.emphasis.fedcloud.eu/egi-demo'"
   ]
  },
  {
   "cell_type": "markdown",
   "id": "2b70619b-0762-4a03-b8b8-387d608f26d2",
   "metadata": {},
   "source": [
    "# Delete data..."
   ]
  },
  {
   "cell_type": "markdown",
   "id": "ef2c9f4b-d345-4daa-8740-2aa06314a4a1",
   "metadata": {},
   "source": [
    "## ...based on variable"
   ]
  },
  {
   "cell_type": "code",
   "execution_count": 12,
   "id": "92877f46-2be9-4340-9de4-51999a457225",
   "metadata": {},
   "outputs": [
    {
     "name": "stdout",
     "output_type": "stream",
     "text": [
      "Done\n"
     ]
    }
   ],
   "source": [
    "#%% Delete Data  ########################################################\n",
    "Dat_Api = osC.DataApi(Py_Client)\n",
    "\n",
    "var=\"uh:id/variable/shootsystem_rotationalmasssymmetry_computing_unitless\"\n",
    "exp='uh:id/experiment/bra004l'\n",
    "Dat_Api.delete_data_on_search(variable=var, experiment=exp)\n",
    "print(\"Done\")\n",
    "del var\n",
    "\n",
    "del Dat_Api"
   ]
  },
  {
   "cell_type": "markdown",
   "id": "c1e44781-abe8-4b44-aaf6-4a559c3d873d",
   "metadata": {},
   "source": [
    "## ...based on Provenance"
   ]
  },
  {
   "cell_type": "code",
   "execution_count": 5,
   "id": "68c1b702-4dd8-429f-a513-2dda7e9dc354",
   "metadata": {},
   "outputs": [
    {
     "name": "stdout",
     "output_type": "stream",
     "text": [
      "Done\n"
     ]
    }
   ],
   "source": [
    "#%% Delete Data  ########################################################\n",
    "Dat_Api = osC.DataApi(Py_Client)\n",
    "\n",
    "prov=\"uh:id/provenance/modular_rgb1_provdata\"\n",
    "Dat_Api.delete_data_on_search(provenance=prov)\n",
    "print(\"Done\")\n",
    "del prov\n",
    "\n",
    "del Dat_Api"
   ]
  },
  {
   "cell_type": "markdown",
   "id": "a7afde2e-b859-422a-97b9-020a3a002645",
   "metadata": {},
   "source": [
    "## ...based on URI"
   ]
  },
  {
   "cell_type": "code",
   "execution_count": 7,
   "id": "4d657685-402b-44d8-a8f4-ed1dd5aafca2",
   "metadata": {},
   "outputs": [
    {
     "name": "stdout",
     "output_type": "stream",
     "text": [
      "Done\n"
     ]
    }
   ],
   "source": [
    "Dat_Api = osC.DataApi(Py_Client)\n",
    "\n",
    "uri = \"uh:id/data/ad8be382-cce7-40d4-b005-704c7068d489\"\n",
    "Dat_Api.delete_data(uri, )\n",
    "print(\"Done\")\n",
    "\n",
    "del Dat_Api"
   ]
  },
  {
   "cell_type": "markdown",
   "id": "f9770c66-906e-42e3-83d1-deee7f54f8d9",
   "metadata": {},
   "source": [
    "# Delete Characteristic"
   ]
  },
  {
   "cell_type": "code",
   "execution_count": 5,
   "id": "4e0d854c-c677-48ca-a6eb-6d01a05d94ae",
   "metadata": {},
   "outputs": [
    {
     "name": "stdout",
     "output_type": "stream",
     "text": [
      "Done\n"
     ]
    }
   ],
   "source": [
    "Var_Api = osC.VariablesApi(Py_Client)\n",
    "\n",
    "uri = \"http://phis.mm.helsinki.fi/id/variable/characteristic.rotationalsymmetryobject\"\n",
    "Var_Api.delete_characteristic(uri, )\n",
    "print(\"Done\")\n",
    "\n",
    "del Var_Api"
   ]
  },
  {
   "cell_type": "markdown",
   "id": "cb779d9a-5b61-4090-bb1b-7a024fa953f0",
   "metadata": {},
   "source": [
    "# Count data..."
   ]
  },
  {
   "cell_type": "markdown",
   "id": "f833bccf-993a-4f2d-9b8d-ca73f895efe2",
   "metadata": {},
   "source": [
    "## ...based on variable"
   ]
  },
  {
   "cell_type": "code",
   "execution_count": 20,
   "id": "52b6028e-4d1a-4de0-9232-932ef9480ff5",
   "metadata": {},
   "outputs": [
    {
     "name": "stdout",
     "output_type": "stream",
     "text": [
      "{'result': 154708, 'metadata': {'pagination': {'pageSize': 0, 'currentPage': 0, 'totalCount': 0, 'totalPages': 0}, 'status': [], 'datafiles': []}}\n"
     ]
    }
   ],
   "source": [
    "Dat_Api = osC.DataApi(Py_Client)\n",
    "\n",
    "var=\"http://phis.mm.helsinki.fi/id/variable/air_temperature_datalogging_degreecelsius\"\n",
    "exp='uh:id/experiment/bra004l'\n",
    "\n",
    "Count = Dat_Api.count_data(variables=[var], experiments=[exp])\n",
    "del var\n",
    "\n",
    "print(Count)\n",
    "del Count\n",
    "\n",
    "del Dat_Api"
   ]
  },
  {
   "cell_type": "markdown",
   "id": "af8853a4-3d7b-4927-bd9d-252f0a429236",
   "metadata": {},
   "source": [
    "## ...based on Provenance"
   ]
  },
  {
   "cell_type": "code",
   "execution_count": 21,
   "id": "84c91e53-cd7b-4ecc-a463-8348fb4cf90f",
   "metadata": {},
   "outputs": [
    {
     "name": "stdout",
     "output_type": "stream",
     "text": [
      "{'result': 24570, 'metadata': {'pagination': {'pageSize': 0, 'currentPage': 0, 'totalCount': 0, 'totalPages': 0}, 'status': [], 'datafiles': []}}\n"
     ]
    }
   ],
   "source": [
    "Dat_Api = osC.DataApi(Py_Client)\n",
    "\n",
    "exp = \"uh:id/experiment/nova_exp00\"\n",
    "prov=\"uh:id/provenance/modular_rgb1_morphoparameters\"\n",
    "\n",
    "Count = Dat_Api.count_data(provenances=[prov])\n",
    "del prov\n",
    "\n",
    "print(Count)\n",
    "del Count\n",
    "\n",
    "del Dat_Api"
   ]
  },
  {
   "cell_type": "markdown",
   "id": "0eefd283-4930-4bfd-b9fe-3daa03fa79f4",
   "metadata": {},
   "source": [
    "# Delete ScObj in three steps"
   ]
  },
  {
   "cell_type": "markdown",
   "id": "be4e6214-07d9-440c-be3f-dc9537649358",
   "metadata": {},
   "source": [
    "## 1) Listing them by keyword"
   ]
  },
  {
   "cell_type": "code",
   "execution_count": 18,
   "id": "a9413b3b-f8a3-4f78-b6a9-81d3c269d0ad",
   "metadata": {},
   "outputs": [],
   "source": [
    "#%% Search&List Scientific Object  ############################################\n",
    "ScOb_Api = osC.ScientificObjectsApi(Py_Client)\n",
    "ScOb_Src = ScOb_Api.search_scientific_objects(name=\"NOVA\", page_size=0, page=1)\n",
    "\n",
    "ScOb_uri = []\n",
    "for i in ScOb_Src[\"result\"]:\n",
    "    ScOb_uri.append(i.uri)"
   ]
  },
  {
   "cell_type": "code",
   "execution_count": 19,
   "id": "d8bb7bf0-3ef1-4340-bd1a-4b13ffc29bba",
   "metadata": {},
   "outputs": [
    {
     "data": {
      "text/plain": [
       "['uh:id/scientific-object/so-2020_nova001',\n",
       " 'uh:id/scientific-object/so-2020_nova004',\n",
       " 'uh:id/scientific-object/so-2020_nova011']"
      ]
     },
     "execution_count": 19,
     "metadata": {},
     "output_type": "execute_result"
    }
   ],
   "source": [
    "ScOb_uri"
   ]
  },
  {
   "cell_type": "markdown",
   "id": "e5685787-43cc-400e-8c01-580f29a08080",
   "metadata": {},
   "source": [
    "## 2) Removing them from an existing experiment"
   ]
  },
  {
   "cell_type": "code",
   "execution_count": null,
   "id": "073c85e7-64d1-4e8d-a98c-f6af1a8b7a22",
   "metadata": {},
   "outputs": [],
   "source": [
    "exp = \"uh:id/scientific-object/so-2020_nova001\"\n",
    "\n",
    "for i in ScOb_uri:\n",
    "    ScOb_Api.delete_scientific_object(uri=i,\n",
    "                                      experiment=exp)"
   ]
  },
  {
   "cell_type": "markdown",
   "id": "2bfe35cc-3524-4a22-9737-806fb7ae50c0",
   "metadata": {},
   "source": [
    "## 3) Removing them from databse"
   ]
  },
  {
   "cell_type": "code",
   "execution_count": null,
   "id": "0eb406ae-f1ac-489f-9fd1-711145741c24",
   "metadata": {},
   "outputs": [],
   "source": [
    "for i in ScOb_uri:\n",
    "    ScOb_Api.delete_scientific_object(uri=i)"
   ]
  },
  {
   "cell_type": "code",
   "execution_count": null,
   "id": "ac4f82cb-a474-4d40-9e2d-61df451242ba",
   "metadata": {},
   "outputs": [],
   "source": []
  }
 ],
 "metadata": {
  "kernelspec": {
   "display_name": "opensilex-env",
   "language": "python",
   "name": "opensilex-env"
  },
  "language_info": {
   "codemirror_mode": {
    "name": "ipython",
    "version": 3
   },
   "file_extension": ".py",
   "mimetype": "text/x-python",
   "name": "python",
   "nbconvert_exporter": "python",
   "pygments_lexer": "ipython3",
   "version": "3.10.7"
  }
 },
 "nbformat": 4,
 "nbformat_minor": 5
}
